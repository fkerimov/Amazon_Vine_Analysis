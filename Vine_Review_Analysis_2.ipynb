{
  "nbformat": 4,
  "nbformat_minor": 0,
  "metadata": {
    "colab": {
      "name": "Vine_Review_Analysis_2.ipynb",
      "provenance": [],
      "collapsed_sections": []
    },
    "kernelspec": {
      "name": "python3",
      "display_name": "Python 3"
    },
    "language_info": {
      "name": "python"
    }
  },
  "cells": [
    {
      "cell_type": "code",
      "metadata": {
        "colab": {
          "base_uri": "https://localhost:8080/"
        },
        "id": "96Q9dY8_WL9n",
        "outputId": "b8f00032-4fab-48bc-c505-e48b0a1ca6e2"
      },
      "source": [
        "import os\n",
        "# Find the latest version of spark 3.0  from http://www-us.apache.org/dist/spark/ and enter as the spark version\n",
        "# For example:\n",
        "# spark_version = 'spark-3.0.2'\n",
        "spark_version = 'spark-3.1.1'\n",
        "os.environ['SPARK_VERSION']=spark_version\n",
        "\n",
        "# Install Spark and Java\n",
        "!apt-get update\n",
        "!apt-get install openjdk-11-jdk-headless -qq > /dev/null\n",
        "!wget -q http://www-us.apache.org/dist/spark/$SPARK_VERSION/$SPARK_VERSION-bin-hadoop2.7.tgz\n",
        "!tar xf $SPARK_VERSION-bin-hadoop2.7.tgz\n",
        "!pip install -q findspark\n",
        "\n",
        "# Set Environment Variables\n",
        "import os\n",
        "os.environ[\"JAVA_HOME\"] = \"/usr/lib/jvm/java-11-openjdk-amd64\"\n",
        "os.environ[\"SPARK_HOME\"] = f\"/content/{spark_version}-bin-hadoop2.7\"\n",
        "\n",
        "# Start a SparkSession\n",
        "import findspark\n",
        "findspark.init()"
      ],
      "execution_count": 1,
      "outputs": [
        {
          "output_type": "stream",
          "text": [
            "\r0% [Working]\r            \rHit:1 https://cloud.r-project.org/bin/linux/ubuntu bionic-cran40/ InRelease\n",
            "\r0% [Connecting to archive.ubuntu.com (91.189.88.142)] [Waiting for headers] [Co\r                                                                               \rIgn:2 https://developer.download.nvidia.com/compute/cuda/repos/ubuntu1804/x86_64  InRelease\n",
            "\r0% [Connecting to archive.ubuntu.com (91.189.88.142)] [Waiting for headers] [Co\r0% [1 InRelease gpgv 3,626 B] [Connecting to archive.ubuntu.com (91.189.88.142)\r                                                                               \rIgn:3 https://developer.download.nvidia.com/compute/machine-learning/repos/ubuntu1804/x86_64  InRelease\n",
            "\r0% [1 InRelease gpgv 3,626 B] [Connecting to archive.ubuntu.com (91.189.88.142)\r                                                                               \rHit:4 https://developer.download.nvidia.com/compute/cuda/repos/ubuntu1804/x86_64  Release\n",
            "\r0% [1 InRelease gpgv 3,626 B] [Connecting to archive.ubuntu.com (91.189.88.142)\r                                                                               \rHit:5 https://developer.download.nvidia.com/compute/machine-learning/repos/ubuntu1804/x86_64  Release\n",
            "Hit:6 http://security.ubuntu.com/ubuntu bionic-security InRelease\n",
            "Hit:7 http://ppa.launchpad.net/c2d4u.team/c2d4u4.0+/ubuntu bionic InRelease\n",
            "Hit:8 http://archive.ubuntu.com/ubuntu bionic InRelease\n",
            "Hit:9 http://archive.ubuntu.com/ubuntu bionic-updates InRelease\n",
            "Hit:10 http://ppa.launchpad.net/cran/libgit2/ubuntu bionic InRelease\n",
            "Hit:11 http://archive.ubuntu.com/ubuntu bionic-backports InRelease\n",
            "Hit:14 http://ppa.launchpad.net/deadsnakes/ppa/ubuntu bionic InRelease\n",
            "Hit:15 http://ppa.launchpad.net/graphics-drivers/ppa/ubuntu bionic InRelease\n",
            "Reading package lists... Done\n"
          ],
          "name": "stdout"
        }
      ]
    },
    {
      "cell_type": "code",
      "metadata": {
        "id": "_FQNvsd-Wc-0"
      },
      "source": [
        "# Start Spark session\n",
        "from pyspark.sql import SparkSession\n",
        "spark = SparkSession.builder.appName(\"Vine_Review_Analysis_2\").getOrCreate()"
      ],
      "execution_count": 2,
      "outputs": []
    },
    {
      "cell_type": "code",
      "metadata": {
        "colab": {
          "base_uri": "https://localhost:8080/"
        },
        "id": "qHjJgn5wWtSE",
        "outputId": "13e93f8b-5325-4554-9c90-d023119cb7ce"
      },
      "source": [
        "# Read the data into DataFrame\n",
        "from pyspark import SparkFiles\n",
        "url = \"https://s3.amazonaws.com/amazon-reviews-pds/tsv/amazon_reviews_us_Books_v1_01.tsv.gz\"\n",
        "spark.sparkContext.addFile(url)\n",
        "df = spark.read.option(\"encoding\", \"UTF-8\").csv(SparkFiles.get(\"\"), sep=\"\\t\", header=True, inferSchema=True)\n",
        "df.show()"
      ],
      "execution_count": 3,
      "outputs": [
        {
          "output_type": "stream",
          "text": [
            "+-----------+-----------+--------------+----------+--------------+--------------------+----------------+-----------+-------------+-----------+----+-----------------+--------------------+--------------------+-----------+\n",
            "|marketplace|customer_id|     review_id|product_id|product_parent|       product_title|product_category|star_rating|helpful_votes|total_votes|vine|verified_purchase|     review_headline|         review_body|review_date|\n",
            "+-----------+-----------+--------------+----------+--------------+--------------------+----------------+-----------+-------------+-----------+----+-----------------+--------------------+--------------------+-----------+\n",
            "|         US|   22480053|R28HBXXO1UEVJT|0843952016|      34858117|          The Rising|           Books|          5|            0|          0|   N|                N|Great Twist on Zo...|I've known about ...| 2012-05-03|\n",
            "|         US|   44244451| RZKRFS2UUMFFU|031088926X|     676347131|Sticky Faith Teen...|           Books|          5|           15|         15|   N|                Y|Helpful and Pract...|The student curri...| 2012-05-03|\n",
            "|         US|   20357422|R2WAU9MD9K6JQA|0615268102|     763837025|Black Passenger Y...|           Books|          3|            6|          8|   N|                N|                Paul|I found \\\\\"Black ...| 2012-05-03|\n",
            "|         US|   13235208|R36SCTKYTVPZPC|1900869225|     785539232|Direction and Des...|           Books|          5|           10|         11|   N|                Y|Direction and Des...|Sasportas is a br...| 2012-05-03|\n",
            "|         US|   26301786|R10BM6JUOJX27Q|1565129938|      64646125| Until the Next Time|           Books|          3|            0|          0|   Y|                N|       This was Okay|I wanted to love ...| 2012-05-03|\n",
            "|         US|   27780192| RCLZ5OKZNUSY4|146854456X|     270349766| Unfinished Business|           Books|          5|            0|          0|   N|                Y|   Excellent read!!!|What an exciting ...| 2012-05-03|\n",
            "|         US|   13041546|R1S65DJYEI89G4|1118094514|     752141158|The Republican Br...|           Books|          4|            8|         17|   N|                N|A must read for s...|This book is exce...| 2012-05-03|\n",
            "|         US|   51692331|R3KQYBQOLYDETV|0563521147|     729491316|Good Food: 101 Ca...|           Books|          4|            2|          2|   N|                N|   Chocoholic heaven|If you are on a d...| 2012-05-03|\n",
            "|         US|   23108524|R3QV8K7CSU8K2W|0669444421|     261004015|Patterns and Quil...|           Books|          5|            0|          0|   N|                N|Quilt Art Project...|Written by quilt ...| 2012-05-03|\n",
            "|         US|   51692331|R3W5A1WUGO5VQ0|1897784457|     497876045|Practical Food Sm...|           Books|          4|            0|          1|   N|                N|         A good read|Food smoking has ...| 2012-05-03|\n",
            "|         US|   49438248|R20AQCY3FMBVN5|0316738158|     691490916|The Big Love: A N...|           Books|          5|            0|          0|   N|                N|One of my favorites!|This is one of my...| 2012-05-03|\n",
            "|         US|   11818020| R7KY8VL871MVL|0738730440|     544176812|Around the Tarot ...|           Books|          5|           13|         15|   N|                Y|A must for tarot ...|I have been waiti...| 2012-05-03|\n",
            "|         US|   51692331| RHF5E4UOL5LQ3|1902842286|     698916699|Favourite Apple R...|           Books|          5|            2|          2|   N|                N|  A good little book|Jane Austen said ...| 2012-05-03|\n",
            "|         US|   29446920|R1LMUDN5M9G6ZZ|1465399577|     922463098|       Kevin and Tak|           Books|          5|            0|          0|   N|                N|            so great|I felt this was a...| 2012-05-03|\n",
            "|         US|   33284115| RNGA47KD4CEB8|0061934704|     740765152|Opium Nation: Chi...|           Books|          5|            0|          0|   N|                N|Knowing Afghanist...|Fariba Nawa, desc...| 2012-05-03|\n",
            "|         US|   44728718|R33MYHP5RY1139|1432729039|     116349266|        True to Life|           Books|          5|            3|          3|   N|                N|Modern poetry tha...|For many, reading...| 2012-05-03|\n",
            "|         US|   52534548|R18VIM840CEFRP|1621360075|     143884185|The Real Kosher J...|           Books|          1|           16|        105|   N|                N|                 SLH|I'm sorry, but ca...| 2012-05-03|\n",
            "|         US|   37836302| RQOZBXX7M0U6H|097723732X|     106641033|Idioms Go To The ...|           Books|          5|            0|          0|   N|                N|         Great book!|The (slightly) ea...| 2012-05-03|\n",
            "|         US|   38588903|R3SH84TAORQP2T|0983945209|     377432437|Elsie -  Adventur...|           Books|          5|            3|          3|   N|                N|      Terrific Book!|By Den Adler<br /...| 2012-05-03|\n",
            "|         US|   49148452| RL1OHWOHPM7RO|1419701630|     307676830|Chuck Close: Face...|           Books|          5|            8|          9|   N|                N|  Close and personal|The autobiography...| 2012-05-03|\n",
            "+-----------+-----------+--------------+----------+--------------+--------------------+----------------+-----------+-------------+-----------+----+-----------------+--------------------+--------------------+-----------+\n",
            "only showing top 20 rows\n",
            "\n"
          ],
          "name": "stdout"
        }
      ]
    },
    {
      "cell_type": "code",
      "metadata": {
        "colab": {
          "base_uri": "https://localhost:8080/"
        },
        "id": "iki9gIinW8TS",
        "outputId": "9878e8cb-4d58-41e9-e55c-2dec8357fe93"
      },
      "source": [
        "# Create the vine_table. DataFrame\n",
        "vine_df = df.select([\"review_id\", \"star_rating\", \"helpful_votes\", \"total_votes\", \"vine\", \"verified_purchase\"])\n",
        "vine_df.show()"
      ],
      "execution_count": 4,
      "outputs": [
        {
          "output_type": "stream",
          "text": [
            "+--------------+-----------+-------------+-----------+----+-----------------+\n",
            "|     review_id|star_rating|helpful_votes|total_votes|vine|verified_purchase|\n",
            "+--------------+-----------+-------------+-----------+----+-----------------+\n",
            "|R28HBXXO1UEVJT|          5|            0|          0|   N|                N|\n",
            "| RZKRFS2UUMFFU|          5|           15|         15|   N|                Y|\n",
            "|R2WAU9MD9K6JQA|          3|            6|          8|   N|                N|\n",
            "|R36SCTKYTVPZPC|          5|           10|         11|   N|                Y|\n",
            "|R10BM6JUOJX27Q|          3|            0|          0|   Y|                N|\n",
            "| RCLZ5OKZNUSY4|          5|            0|          0|   N|                Y|\n",
            "|R1S65DJYEI89G4|          4|            8|         17|   N|                N|\n",
            "|R3KQYBQOLYDETV|          4|            2|          2|   N|                N|\n",
            "|R3QV8K7CSU8K2W|          5|            0|          0|   N|                N|\n",
            "|R3W5A1WUGO5VQ0|          4|            0|          1|   N|                N|\n",
            "|R20AQCY3FMBVN5|          5|            0|          0|   N|                N|\n",
            "| R7KY8VL871MVL|          5|           13|         15|   N|                Y|\n",
            "| RHF5E4UOL5LQ3|          5|            2|          2|   N|                N|\n",
            "|R1LMUDN5M9G6ZZ|          5|            0|          0|   N|                N|\n",
            "| RNGA47KD4CEB8|          5|            0|          0|   N|                N|\n",
            "|R33MYHP5RY1139|          5|            3|          3|   N|                N|\n",
            "|R18VIM840CEFRP|          1|           16|        105|   N|                N|\n",
            "| RQOZBXX7M0U6H|          5|            0|          0|   N|                N|\n",
            "|R3SH84TAORQP2T|          5|            3|          3|   N|                N|\n",
            "| RL1OHWOHPM7RO|          5|            8|          9|   N|                N|\n",
            "+--------------+-----------+-------------+-----------+----+-----------------+\n",
            "only showing top 20 rows\n",
            "\n"
          ],
          "name": "stdout"
        }
      ]
    },
    {
      "cell_type": "code",
      "metadata": {
        "colab": {
          "base_uri": "https://localhost:8080/"
        },
        "id": "rjqlsD5_XUMi",
        "outputId": "7394f823-977d-4d30-939a-719d787b785a"
      },
      "source": [
        "# Print Scema\n",
        "vine_df.printSchema()"
      ],
      "execution_count": 5,
      "outputs": [
        {
          "output_type": "stream",
          "text": [
            "root\n",
            " |-- review_id: string (nullable = true)\n",
            " |-- star_rating: integer (nullable = true)\n",
            " |-- helpful_votes: integer (nullable = true)\n",
            " |-- total_votes: integer (nullable = true)\n",
            " |-- vine: string (nullable = true)\n",
            " |-- verified_purchase: string (nullable = true)\n",
            "\n"
          ],
          "name": "stdout"
        }
      ]
    },
    {
      "cell_type": "code",
      "metadata": {
        "colab": {
          "base_uri": "https://localhost:8080/"
        },
        "id": "l-h-PDOsYrmC",
        "outputId": "26d85dd0-6983-4f99-d974-0802261ddd35"
      },
      "source": [
        "# Create dataframe where total_votes > 20\n",
        "total_votes_filtered_df = vine_df.filter(\"total_votes>=20\")\n",
        "total_votes_filtered_df.show()"
      ],
      "execution_count": 6,
      "outputs": [
        {
          "output_type": "stream",
          "text": [
            "+--------------+-----------+-------------+-----------+----+-----------------+\n",
            "|     review_id|star_rating|helpful_votes|total_votes|vine|verified_purchase|\n",
            "+--------------+-----------+-------------+-----------+----+-----------------+\n",
            "|R18VIM840CEFRP|          1|           16|        105|   N|                N|\n",
            "|R14PMAJTY0EAAT|          4|          135|        142|   N|                Y|\n",
            "|R1363VA3TPNLVB|          5|          370|        388|   N|                Y|\n",
            "| RBQZC5A3TSWT5|          5|           11|         22|   N|                Y|\n",
            "| RW00TDPV9U93E|          1|           35|         76|   N|                N|\n",
            "|R3OW0AIVLEDIQ7|          3|           99|        121|   N|                N|\n",
            "|R3DTESO4FUAPKQ|          5|           90|        102|   N|                N|\n",
            "|R18I0XBYWFSR5T|          1|           16|         50|   N|                N|\n",
            "|R1VSQ3QK30VDI0|          5|           23|         35|   N|                N|\n",
            "|R3NEJBF4FXMVUU|          5|           87|         90|   N|                Y|\n",
            "|R34ZTQTHWRHT5R|          5|           18|         20|   N|                Y|\n",
            "|R367X555006ROC|          1|           39|         44|   N|                N|\n",
            "| R4NCMAZCRAXHT|          3|           19|         21|   N|                N|\n",
            "|R1WQJ6BTGTJNHM|          3|            6|         47|   N|                N|\n",
            "|R33JIVA97UYKH2|          2|           23|         29|   N|                Y|\n",
            "| RSD6TF0E24D9P|          5|           30|         34|   N|                Y|\n",
            "|R2DLFW0GMIFTKP|          5|           53|         58|   N|                Y|\n",
            "| RQZ638E0E34Z3|          2|          259|        299|   N|                N|\n",
            "|R2RP1D1I036Q6C|          1|           20|         34|   N|                N|\n",
            "|R3TJPP6SLHXO41|          1|           16|         27|   N|                Y|\n",
            "+--------------+-----------+-------------+-----------+----+-----------------+\n",
            "only showing top 20 rows\n",
            "\n"
          ],
          "name": "stdout"
        }
      ]
    },
    {
      "cell_type": "code",
      "metadata": {
        "colab": {
          "base_uri": "https://localhost:8080/"
        },
        "id": "p0l3AIFjZ7-y",
        "outputId": "cb3824d2-ea2e-4c99-90c8-6da93ab6fad7"
      },
      "source": [
        "# Create dataframe where helpful_votes / total_votes >= 50%\n",
        "helpful_total_votes_df = total_votes_filtered_df.filter(\"(helpful_votes/total_votes)*100>=50\")\n",
        "helpful_total_votes_df.show()"
      ],
      "execution_count": 7,
      "outputs": [
        {
          "output_type": "stream",
          "text": [
            "+--------------+-----------+-------------+-----------+----+-----------------+\n",
            "|     review_id|star_rating|helpful_votes|total_votes|vine|verified_purchase|\n",
            "+--------------+-----------+-------------+-----------+----+-----------------+\n",
            "|R14PMAJTY0EAAT|          4|          135|        142|   N|                Y|\n",
            "|R1363VA3TPNLVB|          5|          370|        388|   N|                Y|\n",
            "| RBQZC5A3TSWT5|          5|           11|         22|   N|                Y|\n",
            "|R3OW0AIVLEDIQ7|          3|           99|        121|   N|                N|\n",
            "|R3DTESO4FUAPKQ|          5|           90|        102|   N|                N|\n",
            "|R1VSQ3QK30VDI0|          5|           23|         35|   N|                N|\n",
            "|R3NEJBF4FXMVUU|          5|           87|         90|   N|                Y|\n",
            "|R34ZTQTHWRHT5R|          5|           18|         20|   N|                Y|\n",
            "|R367X555006ROC|          1|           39|         44|   N|                N|\n",
            "| R4NCMAZCRAXHT|          3|           19|         21|   N|                N|\n",
            "|R33JIVA97UYKH2|          2|           23|         29|   N|                Y|\n",
            "| RSD6TF0E24D9P|          5|           30|         34|   N|                Y|\n",
            "|R2DLFW0GMIFTKP|          5|           53|         58|   N|                Y|\n",
            "| RQZ638E0E34Z3|          2|          259|        299|   N|                N|\n",
            "|R2RP1D1I036Q6C|          1|           20|         34|   N|                N|\n",
            "|R3TJPP6SLHXO41|          1|           16|         27|   N|                Y|\n",
            "|R2DK25C3UOICDC|          5|           13|         22|   N|                N|\n",
            "|R3LWNR7QFH1P0U|          1|           18|         24|   N|                N|\n",
            "|R32X7O6DKBEXM0|          5|           25|         26|   N|                N|\n",
            "|R16VVIH03CTRHB|          5|           16|         25|   N|                Y|\n",
            "+--------------+-----------+-------------+-----------+----+-----------------+\n",
            "only showing top 20 rows\n",
            "\n"
          ],
          "name": "stdout"
        }
      ]
    },
    {
      "cell_type": "code",
      "metadata": {
        "colab": {
          "base_uri": "https://localhost:8080/"
        },
        "id": "UREWBGM1bR9S",
        "outputId": "94f7c1c6-fa7d-4988-8c98-5bdfd904109c"
      },
      "source": [
        "# Create new DataFrame with reviews as part of the Vine Program\n",
        "paid_review_df = helpful_total_votes_df.filter(\"vine=='Y'\")\n",
        "paid_review_df.show()"
      ],
      "execution_count": 8,
      "outputs": [
        {
          "output_type": "stream",
          "text": [
            "+--------------+-----------+-------------+-----------+----+-----------------+\n",
            "|     review_id|star_rating|helpful_votes|total_votes|vine|verified_purchase|\n",
            "+--------------+-----------+-------------+-----------+----+-----------------+\n",
            "|R2Z8083V8ZFQVZ|          3|           82|         87|   Y|                N|\n",
            "| RK25TAO4GGS5G|          3|           22|         24|   Y|                N|\n",
            "|R2SJQG3C6KY0M8|          3|           18|         20|   Y|                N|\n",
            "|R12CHC0CB2WASU|          5|           43|         48|   Y|                N|\n",
            "|R2RY328TIDXMTE|          2|           50|         61|   Y|                N|\n",
            "|R3K8OQU4PEP8W7|          4|           40|         46|   Y|                N|\n",
            "|R1JI1A7JT99538|          3|           28|         40|   Y|                N|\n",
            "|R247K3K5SVPJUL|          3|           15|         20|   Y|                N|\n",
            "|R27UEUDUYPLXZC|          5|           20|         24|   Y|                N|\n",
            "|R2QQDNBYDIEL9F|          5|           35|         41|   Y|                N|\n",
            "|R26ELQU09IPX5K|          2|           11|         21|   Y|                N|\n",
            "| RSKUR90HGW6PY|          3|           34|         54|   Y|                N|\n",
            "|R1W7MQRB02CRG8|          4|           20|         22|   Y|                N|\n",
            "|R3LJN6BQL2F0BR|          1|           28|         34|   Y|                N|\n",
            "|R3FO8YQ2BKL1RG|          5|           93|         94|   Y|                N|\n",
            "|R27HEI4FN6TZQ7|          3|           20|         27|   Y|                N|\n",
            "|R3DRE8T4NTEWNV|          5|           28|         28|   Y|                N|\n",
            "|R33G38RMCEXIVD|          4|           28|         29|   Y|                N|\n",
            "|R2ZD6GIDCKAJNM|          5|          118|        139|   Y|                N|\n",
            "|R3DKQQNX6X3VTU|          4|           53|         56|   Y|                N|\n",
            "+--------------+-----------+-------------+-----------+----+-----------------+\n",
            "only showing top 20 rows\n",
            "\n"
          ],
          "name": "stdout"
        }
      ]
    },
    {
      "cell_type": "code",
      "metadata": {
        "colab": {
          "base_uri": "https://localhost:8080/"
        },
        "id": "oQtf9dSOAMYr",
        "outputId": "bb21dc3a-b6cb-4f50-95d1-5885cb0968f8"
      },
      "source": [
        "# Get the number of paid reviews\n",
        "paid_review_df.count()"
      ],
      "execution_count": 9,
      "outputs": [
        {
          "output_type": "execute_result",
          "data": {
            "text/plain": [
              "4781"
            ]
          },
          "metadata": {
            "tags": []
          },
          "execution_count": 9
        }
      ]
    },
    {
      "cell_type": "code",
      "metadata": {
        "colab": {
          "base_uri": "https://localhost:8080/"
        },
        "id": "zrXpUPgfd1nr",
        "outputId": "185421b5-48d2-4898-9c07-5412d38940e0"
      },
      "source": [
        "# Create DataFrame with reviews that are not part of the Vine Program\n",
        "unpaid_review_df = helpful_total_votes_df.filter(\"vine=='N'\")\n",
        "unpaid_review_df.show()"
      ],
      "execution_count": 10,
      "outputs": [
        {
          "output_type": "stream",
          "text": [
            "+--------------+-----------+-------------+-----------+----+-----------------+\n",
            "|     review_id|star_rating|helpful_votes|total_votes|vine|verified_purchase|\n",
            "+--------------+-----------+-------------+-----------+----+-----------------+\n",
            "|R14PMAJTY0EAAT|          4|          135|        142|   N|                Y|\n",
            "|R1363VA3TPNLVB|          5|          370|        388|   N|                Y|\n",
            "| RBQZC5A3TSWT5|          5|           11|         22|   N|                Y|\n",
            "|R3OW0AIVLEDIQ7|          3|           99|        121|   N|                N|\n",
            "|R3DTESO4FUAPKQ|          5|           90|        102|   N|                N|\n",
            "|R1VSQ3QK30VDI0|          5|           23|         35|   N|                N|\n",
            "|R3NEJBF4FXMVUU|          5|           87|         90|   N|                Y|\n",
            "|R34ZTQTHWRHT5R|          5|           18|         20|   N|                Y|\n",
            "|R367X555006ROC|          1|           39|         44|   N|                N|\n",
            "| R4NCMAZCRAXHT|          3|           19|         21|   N|                N|\n",
            "|R33JIVA97UYKH2|          2|           23|         29|   N|                Y|\n",
            "| RSD6TF0E24D9P|          5|           30|         34|   N|                Y|\n",
            "|R2DLFW0GMIFTKP|          5|           53|         58|   N|                Y|\n",
            "| RQZ638E0E34Z3|          2|          259|        299|   N|                N|\n",
            "|R2RP1D1I036Q6C|          1|           20|         34|   N|                N|\n",
            "|R3TJPP6SLHXO41|          1|           16|         27|   N|                Y|\n",
            "|R2DK25C3UOICDC|          5|           13|         22|   N|                N|\n",
            "|R3LWNR7QFH1P0U|          1|           18|         24|   N|                N|\n",
            "|R32X7O6DKBEXM0|          5|           25|         26|   N|                N|\n",
            "|R16VVIH03CTRHB|          5|           16|         25|   N|                Y|\n",
            "+--------------+-----------+-------------+-----------+----+-----------------+\n",
            "only showing top 20 rows\n",
            "\n"
          ],
          "name": "stdout"
        }
      ]
    },
    {
      "cell_type": "code",
      "metadata": {
        "colab": {
          "base_uri": "https://localhost:8080/"
        },
        "id": "oZToTBFB3zJ_",
        "outputId": "15051ffb-3912-4074-e11b-9c24081a1780"
      },
      "source": [
        "# Count the number of unpaid reviews\n",
        "unpaid_review_df.count()"
      ],
      "execution_count": 11,
      "outputs": [
        {
          "output_type": "execute_result",
          "data": {
            "text/plain": [
              "332395"
            ]
          },
          "metadata": {
            "tags": []
          },
          "execution_count": 11
        }
      ]
    },
    {
      "cell_type": "code",
      "metadata": {
        "id": "ypUWSLsYeQG1",
        "colab": {
          "base_uri": "https://localhost:8080/"
        },
        "outputId": "b59a205a-099e-45a6-ce9c-3551b5917f3d"
      },
      "source": [
        "# Determine the total number of reviews\n",
        "helpful_total_votes_df.count()"
      ],
      "execution_count": 12,
      "outputs": [
        {
          "output_type": "execute_result",
          "data": {
            "text/plain": [
              "337176"
            ]
          },
          "metadata": {
            "tags": []
          },
          "execution_count": 12
        }
      ]
    },
    {
      "cell_type": "code",
      "metadata": {
        "colab": {
          "base_uri": "https://localhost:8080/"
        },
        "id": "3oBi2a_zoayX",
        "outputId": "e67c0e6b-da65-4f30-8b46-a265263d3460"
      },
      "source": [
        "# Determine the number of 5-star reviews\n",
        "five_star_df = helpful_total_votes_df.filter('star_rating==5')\n",
        "five_star_df.count()"
      ],
      "execution_count": 13,
      "outputs": [
        {
          "output_type": "execute_result",
          "data": {
            "text/plain": [
              "170404"
            ]
          },
          "metadata": {
            "tags": []
          },
          "execution_count": 13
        }
      ]
    },
    {
      "cell_type": "code",
      "metadata": {
        "colab": {
          "base_uri": "https://localhost:8080/"
        },
        "id": "TS1_f7w1CgXg",
        "outputId": "23707c8c-13a0-4a03-f531-1c93b2433ff6"
      },
      "source": [
        "# Determine percentage of paid reviews in 5-star reviews\n",
        "five_star_df.filter(\"vine=='Y'\").count() / five_star_df.count() * 100"
      ],
      "execution_count": 15,
      "outputs": [
        {
          "output_type": "execute_result",
          "data": {
            "text/plain": [
              "0.9412924579235229"
            ]
          },
          "metadata": {
            "tags": []
          },
          "execution_count": 15
        }
      ]
    },
    {
      "cell_type": "code",
      "metadata": {
        "colab": {
          "base_uri": "https://localhost:8080/"
        },
        "id": "oD7RcOGzCwbt",
        "outputId": "8dd84731-00cc-4b58-c03d-4fbacda1fa11"
      },
      "source": [
        "# Determine the percentage of unpaid reviews in 5-star reviews\n",
        "five_star_df.filter(\"vine=='N'\").count() / five_star_df.count() * 100"
      ],
      "execution_count": 16,
      "outputs": [
        {
          "output_type": "execute_result",
          "data": {
            "text/plain": [
              "99.05870754207648"
            ]
          },
          "metadata": {
            "tags": []
          },
          "execution_count": 16
        }
      ]
    },
    {
      "cell_type": "code",
      "metadata": {
        "colab": {
          "base_uri": "https://localhost:8080/"
        },
        "id": "_tr0E6N8EE_d",
        "outputId": "1ca7db2a-5d26-47c8-928a-bedaa57fddf7"
      },
      "source": [
        "# Determine the percentage of 5-star reviews for paid reviews\n",
        "paid_review_df.filter(\"star_rating==5\").count() / paid_review_df.count() * 100"
      ],
      "execution_count": 17,
      "outputs": [
        {
          "output_type": "execute_result",
          "data": {
            "text/plain": [
              "33.5494666387785"
            ]
          },
          "metadata": {
            "tags": []
          },
          "execution_count": 17
        }
      ]
    },
    {
      "cell_type": "code",
      "metadata": {
        "colab": {
          "base_uri": "https://localhost:8080/"
        },
        "id": "1JNh1GIbqMdP",
        "outputId": "5eac3c7f-8ccf-44c2-e7b8-5c3312f55896"
      },
      "source": [
        "# Determine the percentage of 5-star reviews for unpaid reviews\n",
        "unpaid_review_df.filter(\"star_rating==5\").count() / unpaid_review_df.count() * 100"
      ],
      "execution_count": 18,
      "outputs": [
        {
          "output_type": "execute_result",
          "data": {
            "text/plain": [
              "50.782954015553784"
            ]
          },
          "metadata": {
            "tags": []
          },
          "execution_count": 18
        }
      ]
    },
    {
      "cell_type": "code",
      "metadata": {
        "id": "G_R9pfniuknu"
      },
      "source": [
        ""
      ],
      "execution_count": null,
      "outputs": []
    }
  ]
}